{
 "cells": [
  {
   "cell_type": "code",
   "execution_count": 3,
   "id": "e95c0631",
   "metadata": {},
   "outputs": [],
   "source": [
    "import sys\n",
    "import pandas as pd\n",
    "import numpy as np\n",
    "from os.path import join\n",
    "from sklearn.linear_model import LassoCV, Lasso, LogisticRegression\n",
    "import seaborn as sns\n",
    "from dispersion_ml_model import *"
   ]
  },
  {
   "cell_type": "markdown",
   "id": "6e174f79",
   "metadata": {},
   "source": [
    "###  1. get train data and test data"
   ]
  },
  {
   "cell_type": "code",
   "execution_count": 4,
   "id": "107778f3",
   "metadata": {},
   "outputs": [],
   "source": [
    "z_score_scaler = lambda x: (x-np.mean(x))/(np.std(x))\n",
    "max_min_scaler = lambda x : (x-np.min(x))/(np.max(x)-np.min(x))"
   ]
  },
  {
   "cell_type": "code",
   "execution_count": 6,
   "id": "000d6035",
   "metadata": {},
   "outputs": [],
   "source": [
    "train_df = pd.read_csv('files/train_set_info.csv')\n",
    "test_df = pd.read_csv('files/test_set_info.csv')\n",
    "test_coin_df = pd.read_csv('files/test_set_coin_info.csv')"
   ]
  },
  {
   "cell_type": "code",
   "execution_count": 9,
   "id": "a61ef78f",
   "metadata": {},
   "outputs": [
    {
     "data": {
      "text/plain": [
       "(392, 111, 77)"
      ]
     },
     "execution_count": 9,
     "metadata": {},
     "output_type": "execute_result"
    }
   ],
   "source": [
    "len(train_df), len(test_df), len(test_coin_df)"
   ]
  },
  {
   "cell_type": "code",
   "execution_count": 7,
   "id": "b10f02d0",
   "metadata": {
    "scrolled": true
   },
   "outputs": [
    {
     "data": {
      "text/plain": [
       "source   machine_type\n",
       "306      SE              319\n",
       "tiantan  SE               45\n",
       "         GE               23\n",
       "         Philips           5\n",
       "dtype: int64"
      ]
     },
     "execution_count": 7,
     "metadata": {},
     "output_type": "execute_result"
    }
   ],
   "source": [
    "train_df[['source','machine_type']].value_counts()"
   ]
  },
  {
   "cell_type": "markdown",
   "id": "1902b665",
   "metadata": {},
   "source": [
    "### 3. select features"
   ]
  },
  {
   "cell_type": "code",
   "execution_count": 13,
   "id": "a79f70c9",
   "metadata": {
    "scrolled": true
   },
   "outputs": [
    {
     "name": "stdout",
     "output_type": "stream",
     "text": [
      "107\n"
     ]
    }
   ],
   "source": [
    "all_feats = [one for one in train_df.columns if one.startswith('original_')]\n",
    "print(len(all_feats))"
   ]
  },
  {
   "cell_type": "code",
   "execution_count": 16,
   "id": "5257184b",
   "metadata": {},
   "outputs": [
    {
     "name": "stdout",
     "output_type": "stream",
     "text": [
      "Number of shape features: 14\n",
      "Number of firstorder features: 18\n",
      "Number of other features: 75\n"
     ]
    }
   ],
   "source": [
    "shape_feats = [one for one in all_feats if 'shape' in one]\n",
    "firstorder_feats = [one for one in all_feats if 'firstorder' in one]\n",
    "other_feats = [one for one in all_feats if one not in (shape_feats + firstorder_feats)]\n",
    "print(f'Number of shape features: {len(shape_feats)}')\n",
    "print(f'Number of firstorder features: {len(firstorder_feats)}')\n",
    "print(f'Number of other features: {len(other_feats)}')"
   ]
  },
  {
   "cell_type": "code",
   "execution_count": 17,
   "id": "30df4b7d",
   "metadata": {
    "scrolled": true
   },
   "outputs": [],
   "source": [
    "train_X = train_df[all_feats]\n",
    "target_col = 'is_dispersion_all'\n",
    "train_y = train_df[target_col]"
   ]
  },
  {
   "cell_type": "code",
   "execution_count": 18,
   "id": "e8c3ff8f",
   "metadata": {
    "scrolled": true
   },
   "outputs": [
    {
     "data": {
      "text/html": [
       "<div>\n",
       "<style scoped>\n",
       "    .dataframe tbody tr th:only-of-type {\n",
       "        vertical-align: middle;\n",
       "    }\n",
       "\n",
       "    .dataframe tbody tr th {\n",
       "        vertical-align: top;\n",
       "    }\n",
       "\n",
       "    .dataframe thead th {\n",
       "        text-align: right;\n",
       "    }\n",
       "</style>\n",
       "<table border=\"1\" class=\"dataframe\">\n",
       "  <thead>\n",
       "    <tr style=\"text-align: right;\">\n",
       "      <th></th>\n",
       "      <th>original_shape_Elongation</th>\n",
       "      <th>original_shape_Flatness</th>\n",
       "      <th>original_shape_LeastAxisLength</th>\n",
       "      <th>original_shape_MajorAxisLength</th>\n",
       "      <th>original_shape_Maximum2DDiameterColumn</th>\n",
       "      <th>original_shape_Maximum2DDiameterRow</th>\n",
       "      <th>original_shape_Maximum2DDiameterSlice</th>\n",
       "      <th>original_shape_Maximum3DDiameter</th>\n",
       "      <th>original_shape_MeshVolume</th>\n",
       "      <th>original_shape_MinorAxisLength</th>\n",
       "      <th>...</th>\n",
       "      <th>original_glszm_SmallAreaHighGrayLevelEmphasis</th>\n",
       "      <th>original_glszm_SmallAreaLowGrayLevelEmphasis</th>\n",
       "      <th>original_glszm_ZoneEntropy</th>\n",
       "      <th>original_glszm_ZonePercentage</th>\n",
       "      <th>original_glszm_ZoneVariance</th>\n",
       "      <th>original_ngtdm_Busyness</th>\n",
       "      <th>original_ngtdm_Coarseness</th>\n",
       "      <th>original_ngtdm_Complexity</th>\n",
       "      <th>original_ngtdm_Contrast</th>\n",
       "      <th>original_ngtdm_Strength</th>\n",
       "    </tr>\n",
       "  </thead>\n",
       "  <tbody>\n",
       "    <tr>\n",
       "      <th>0</th>\n",
       "      <td>0.731953</td>\n",
       "      <td>0.472814</td>\n",
       "      <td>0.516502</td>\n",
       "      <td>0.479894</td>\n",
       "      <td>0.515566</td>\n",
       "      <td>0.525714</td>\n",
       "      <td>0.479846</td>\n",
       "      <td>0.438062</td>\n",
       "      <td>0.266863</td>\n",
       "      <td>0.614838</td>\n",
       "      <td>...</td>\n",
       "      <td>0.388275</td>\n",
       "      <td>0.623128</td>\n",
       "      <td>0.706977</td>\n",
       "      <td>0.077994</td>\n",
       "      <td>0.092748</td>\n",
       "      <td>0.024083</td>\n",
       "      <td>2.590000e-09</td>\n",
       "      <td>0.048593</td>\n",
       "      <td>0.002032</td>\n",
       "      <td>0.001758</td>\n",
       "    </tr>\n",
       "    <tr>\n",
       "      <th>1</th>\n",
       "      <td>0.500794</td>\n",
       "      <td>0.476184</td>\n",
       "      <td>0.294710</td>\n",
       "      <td>0.241457</td>\n",
       "      <td>0.175074</td>\n",
       "      <td>0.248050</td>\n",
       "      <td>0.251652</td>\n",
       "      <td>0.210583</td>\n",
       "      <td>0.051092</td>\n",
       "      <td>0.233746</td>\n",
       "      <td>...</td>\n",
       "      <td>0.252517</td>\n",
       "      <td>0.405255</td>\n",
       "      <td>0.720637</td>\n",
       "      <td>0.154163</td>\n",
       "      <td>0.009374</td>\n",
       "      <td>0.007508</td>\n",
       "      <td>8.510000e-09</td>\n",
       "      <td>0.075820</td>\n",
       "      <td>0.003855</td>\n",
       "      <td>0.005826</td>\n",
       "    </tr>\n",
       "    <tr>\n",
       "      <th>2</th>\n",
       "      <td>0.775276</td>\n",
       "      <td>0.424474</td>\n",
       "      <td>0.247051</td>\n",
       "      <td>0.220328</td>\n",
       "      <td>0.297454</td>\n",
       "      <td>0.277598</td>\n",
       "      <td>0.169452</td>\n",
       "      <td>0.205229</td>\n",
       "      <td>0.038282</td>\n",
       "      <td>0.319041</td>\n",
       "      <td>...</td>\n",
       "      <td>0.360335</td>\n",
       "      <td>0.578289</td>\n",
       "      <td>0.461319</td>\n",
       "      <td>0.065104</td>\n",
       "      <td>0.015342</td>\n",
       "      <td>0.001205</td>\n",
       "      <td>5.310000e-08</td>\n",
       "      <td>0.016053</td>\n",
       "      <td>0.000217</td>\n",
       "      <td>0.032513</td>\n",
       "    </tr>\n",
       "    <tr>\n",
       "      <th>3</th>\n",
       "      <td>0.690066</td>\n",
       "      <td>0.487391</td>\n",
       "      <td>0.381535</td>\n",
       "      <td>0.325269</td>\n",
       "      <td>0.423372</td>\n",
       "      <td>0.303682</td>\n",
       "      <td>0.323991</td>\n",
       "      <td>0.294292</td>\n",
       "      <td>0.111819</td>\n",
       "      <td>0.407903</td>\n",
       "      <td>...</td>\n",
       "      <td>0.193930</td>\n",
       "      <td>0.311231</td>\n",
       "      <td>0.779852</td>\n",
       "      <td>0.057837</td>\n",
       "      <td>0.050930</td>\n",
       "      <td>0.005765</td>\n",
       "      <td>1.110000e-08</td>\n",
       "      <td>0.027438</td>\n",
       "      <td>0.000823</td>\n",
       "      <td>0.006772</td>\n",
       "    </tr>\n",
       "    <tr>\n",
       "      <th>4</th>\n",
       "      <td>0.679706</td>\n",
       "      <td>0.499824</td>\n",
       "      <td>0.596374</td>\n",
       "      <td>0.536004</td>\n",
       "      <td>0.561931</td>\n",
       "      <td>0.630631</td>\n",
       "      <td>0.619420</td>\n",
       "      <td>0.572213</td>\n",
       "      <td>0.327486</td>\n",
       "      <td>0.644629</td>\n",
       "      <td>...</td>\n",
       "      <td>0.343000</td>\n",
       "      <td>0.550468</td>\n",
       "      <td>0.813399</td>\n",
       "      <td>0.134222</td>\n",
       "      <td>0.067173</td>\n",
       "      <td>0.069715</td>\n",
       "      <td>8.530000e-10</td>\n",
       "      <td>0.113949</td>\n",
       "      <td>0.010398</td>\n",
       "      <td>0.000629</td>\n",
       "    </tr>\n",
       "  </tbody>\n",
       "</table>\n",
       "<p>5 rows × 107 columns</p>\n",
       "</div>"
      ],
      "text/plain": [
       "   original_shape_Elongation  original_shape_Flatness  \\\n",
       "0                   0.731953                 0.472814   \n",
       "1                   0.500794                 0.476184   \n",
       "2                   0.775276                 0.424474   \n",
       "3                   0.690066                 0.487391   \n",
       "4                   0.679706                 0.499824   \n",
       "\n",
       "   original_shape_LeastAxisLength  original_shape_MajorAxisLength  \\\n",
       "0                        0.516502                        0.479894   \n",
       "1                        0.294710                        0.241457   \n",
       "2                        0.247051                        0.220328   \n",
       "3                        0.381535                        0.325269   \n",
       "4                        0.596374                        0.536004   \n",
       "\n",
       "   original_shape_Maximum2DDiameterColumn  \\\n",
       "0                                0.515566   \n",
       "1                                0.175074   \n",
       "2                                0.297454   \n",
       "3                                0.423372   \n",
       "4                                0.561931   \n",
       "\n",
       "   original_shape_Maximum2DDiameterRow  original_shape_Maximum2DDiameterSlice  \\\n",
       "0                             0.525714                               0.479846   \n",
       "1                             0.248050                               0.251652   \n",
       "2                             0.277598                               0.169452   \n",
       "3                             0.303682                               0.323991   \n",
       "4                             0.630631                               0.619420   \n",
       "\n",
       "   original_shape_Maximum3DDiameter  original_shape_MeshVolume  \\\n",
       "0                          0.438062                   0.266863   \n",
       "1                          0.210583                   0.051092   \n",
       "2                          0.205229                   0.038282   \n",
       "3                          0.294292                   0.111819   \n",
       "4                          0.572213                   0.327486   \n",
       "\n",
       "   original_shape_MinorAxisLength  ...  \\\n",
       "0                        0.614838  ...   \n",
       "1                        0.233746  ...   \n",
       "2                        0.319041  ...   \n",
       "3                        0.407903  ...   \n",
       "4                        0.644629  ...   \n",
       "\n",
       "   original_glszm_SmallAreaHighGrayLevelEmphasis  \\\n",
       "0                                       0.388275   \n",
       "1                                       0.252517   \n",
       "2                                       0.360335   \n",
       "3                                       0.193930   \n",
       "4                                       0.343000   \n",
       "\n",
       "   original_glszm_SmallAreaLowGrayLevelEmphasis  original_glszm_ZoneEntropy  \\\n",
       "0                                      0.623128                    0.706977   \n",
       "1                                      0.405255                    0.720637   \n",
       "2                                      0.578289                    0.461319   \n",
       "3                                      0.311231                    0.779852   \n",
       "4                                      0.550468                    0.813399   \n",
       "\n",
       "   original_glszm_ZonePercentage  original_glszm_ZoneVariance  \\\n",
       "0                       0.077994                     0.092748   \n",
       "1                       0.154163                     0.009374   \n",
       "2                       0.065104                     0.015342   \n",
       "3                       0.057837                     0.050930   \n",
       "4                       0.134222                     0.067173   \n",
       "\n",
       "   original_ngtdm_Busyness  original_ngtdm_Coarseness  \\\n",
       "0                 0.024083               2.590000e-09   \n",
       "1                 0.007508               8.510000e-09   \n",
       "2                 0.001205               5.310000e-08   \n",
       "3                 0.005765               1.110000e-08   \n",
       "4                 0.069715               8.530000e-10   \n",
       "\n",
       "   original_ngtdm_Complexity  original_ngtdm_Contrast  original_ngtdm_Strength  \n",
       "0                   0.048593                 0.002032                 0.001758  \n",
       "1                   0.075820                 0.003855                 0.005826  \n",
       "2                   0.016053                 0.000217                 0.032513  \n",
       "3                   0.027438                 0.000823                 0.006772  \n",
       "4                   0.113949                 0.010398                 0.000629  \n",
       "\n",
       "[5 rows x 107 columns]"
      ]
     },
     "execution_count": 18,
     "metadata": {},
     "output_type": "execute_result"
    }
   ],
   "source": [
    "train_X.head()"
   ]
  },
  {
   "cell_type": "code",
   "execution_count": 28,
   "id": "58b3dcd4",
   "metadata": {},
   "outputs": [],
   "source": [
    "sub_sel_feats = ['original_shape_LeastAxisLength', 'original_shape_Maximum2DDiameterColumn', 'original_shape_Maximum2DDiameterSlice', 'original_shape_Sphericity', 'original_firstorder_90Percentile', 'original_firstorder_InterquartileRange', 'original_firstorder_Median', 'original_firstorder_RobustMeanAbsoluteDeviation', 'original_glcm_ClusterProminence', 'original_glcm_DifferenceVariance', 'original_glrlm_GrayLevelNonUniformity', 'original_glrlm_LongRunLowGrayLevelEmphasis', 'original_glszm_SizeZoneNonUniformity', 'original_ngtdm_Strength']"
   ]
  },
  {
   "cell_type": "code",
   "execution_count": 19,
   "id": "0cb809c8",
   "metadata": {
    "scrolled": true
   },
   "outputs": [
    {
     "name": "stderr",
     "output_type": "stream",
     "text": [
      "/Users/grace/opt/miniconda3/envs/python37/lib/python3.7/site-packages/sklearn/metrics/_classification.py:1245: UndefinedMetricWarning: Precision is ill-defined and being set to 0.0 due to no predicted samples. Use `zero_division` parameter to control this behavior.\n",
      "  _warn_prf(average, modifier, msg_start, len(result))\n",
      "/Users/grace/opt/miniconda3/envs/python37/lib/python3.7/site-packages/sklearn/metrics/_classification.py:1245: UndefinedMetricWarning: Precision is ill-defined and being set to 0.0 due to no predicted samples. Use `zero_division` parameter to control this behavior.\n",
      "  _warn_prf(average, modifier, msg_start, len(result))\n",
      "/Users/grace/opt/miniconda3/envs/python37/lib/python3.7/site-packages/xgboost/sklearn.py:888: UserWarning: The use of label encoder in XGBClassifier is deprecated and will be removed in a future release. To remove this warning, do the following: 1) Pass option use_label_encoder=False when constructing XGBClassifier object; and 2) Encode your labels (y) as integers starting with 0, i.e. 0, 1, 2, ..., [num_class - 1].\n",
      "  warnings.warn(label_encoder_deprecation_msg, UserWarning)\n",
      "/Users/grace/opt/miniconda3/envs/python37/lib/python3.7/site-packages/xgboost/sklearn.py:888: UserWarning: The use of label encoder in XGBClassifier is deprecated and will be removed in a future release. To remove this warning, do the following: 1) Pass option use_label_encoder=False when constructing XGBClassifier object; and 2) Encode your labels (y) as integers starting with 0, i.e. 0, 1, 2, ..., [num_class - 1].\n",
      "  warnings.warn(label_encoder_deprecation_msg, UserWarning)\n",
      "/Users/grace/opt/miniconda3/envs/python37/lib/python3.7/site-packages/xgboost/sklearn.py:888: UserWarning: The use of label encoder in XGBClassifier is deprecated and will be removed in a future release. To remove this warning, do the following: 1) Pass option use_label_encoder=False when constructing XGBClassifier object; and 2) Encode your labels (y) as integers starting with 0, i.e. 0, 1, 2, ..., [num_class - 1].\n",
      "  warnings.warn(label_encoder_deprecation_msg, UserWarning)\n",
      "/Users/grace/opt/miniconda3/envs/python37/lib/python3.7/site-packages/xgboost/sklearn.py:888: UserWarning: The use of label encoder in XGBClassifier is deprecated and will be removed in a future release. To remove this warning, do the following: 1) Pass option use_label_encoder=False when constructing XGBClassifier object; and 2) Encode your labels (y) as integers starting with 0, i.e. 0, 1, 2, ..., [num_class - 1].\n",
      "  warnings.warn(label_encoder_deprecation_msg, UserWarning)\n",
      "/Users/grace/opt/miniconda3/envs/python37/lib/python3.7/site-packages/xgboost/sklearn.py:888: UserWarning: The use of label encoder in XGBClassifier is deprecated and will be removed in a future release. To remove this warning, do the following: 1) Pass option use_label_encoder=False when constructing XGBClassifier object; and 2) Encode your labels (y) as integers starting with 0, i.e. 0, 1, 2, ..., [num_class - 1].\n",
      "  warnings.warn(label_encoder_deprecation_msg, UserWarning)\n"
     ]
    },
    {
     "name": "stdout",
     "output_type": "stream",
     "text": [
      "[11:57:57] WARNING: /opt/concourse/worker/volumes/live/7a2b9f41-3287-451b-6691-43e9a6c0910f/volume/xgboost-split_1619728204606/work/src/learner.cc:1061: Starting in XGBoost 1.3.0, the default evaluation metric used with the objective 'binary:logistic' was changed from 'error' to 'logloss'. Explicitly set eval_metric if you'd like to restore the old behavior.\n",
      "[11:57:57] WARNING: /opt/concourse/worker/volumes/live/7a2b9f41-3287-451b-6691-43e9a6c0910f/volume/xgboost-split_1619728204606/work/src/learner.cc:1061: Starting in XGBoost 1.3.0, the default evaluation metric used with the objective 'binary:logistic' was changed from 'error' to 'logloss'. Explicitly set eval_metric if you'd like to restore the old behavior.\n",
      "[11:57:57] WARNING: /opt/concourse/worker/volumes/live/7a2b9f41-3287-451b-6691-43e9a6c0910f/volume/xgboost-split_1619728204606/work/src/learner.cc:1061: Starting in XGBoost 1.3.0, the default evaluation metric used with the objective 'binary:logistic' was changed from 'error' to 'logloss'. Explicitly set eval_metric if you'd like to restore the old behavior.\n",
      "[11:57:57] WARNING: /opt/concourse/worker/volumes/live/7a2b9f41-3287-451b-6691-43e9a6c0910f/volume/xgboost-split_1619728204606/work/src/learner.cc:1061: Starting in XGBoost 1.3.0, the default evaluation metric used with the objective 'binary:logistic' was changed from 'error' to 'logloss'. Explicitly set eval_metric if you'd like to restore the old behavior.\n",
      "[11:57:57] WARNING: /opt/concourse/worker/volumes/live/7a2b9f41-3287-451b-6691-43e9a6c0910f/volume/xgboost-split_1619728204606/work/src/learner.cc:1061: Starting in XGBoost 1.3.0, the default evaluation metric used with the objective 'binary:logistic' was changed from 'error' to 'logloss'. Explicitly set eval_metric if you'd like to restore the old behavior.\n"
     ]
    },
    {
     "name": "stderr",
     "output_type": "stream",
     "text": [
      "/Users/grace/opt/miniconda3/envs/python37/lib/python3.7/site-packages/xgboost/sklearn.py:888: UserWarning: The use of label encoder in XGBClassifier is deprecated and will be removed in a future release. To remove this warning, do the following: 1) Pass option use_label_encoder=False when constructing XGBClassifier object; and 2) Encode your labels (y) as integers starting with 0, i.e. 0, 1, 2, ..., [num_class - 1].\n",
      "  warnings.warn(label_encoder_deprecation_msg, UserWarning)\n",
      "/Users/grace/opt/miniconda3/envs/python37/lib/python3.7/site-packages/xgboost/sklearn.py:888: UserWarning: The use of label encoder in XGBClassifier is deprecated and will be removed in a future release. To remove this warning, do the following: 1) Pass option use_label_encoder=False when constructing XGBClassifier object; and 2) Encode your labels (y) as integers starting with 0, i.e. 0, 1, 2, ..., [num_class - 1].\n",
      "  warnings.warn(label_encoder_deprecation_msg, UserWarning)\n",
      "/Users/grace/opt/miniconda3/envs/python37/lib/python3.7/site-packages/xgboost/sklearn.py:888: UserWarning: The use of label encoder in XGBClassifier is deprecated and will be removed in a future release. To remove this warning, do the following: 1) Pass option use_label_encoder=False when constructing XGBClassifier object; and 2) Encode your labels (y) as integers starting with 0, i.e. 0, 1, 2, ..., [num_class - 1].\n",
      "  warnings.warn(label_encoder_deprecation_msg, UserWarning)\n",
      "/Users/grace/opt/miniconda3/envs/python37/lib/python3.7/site-packages/xgboost/sklearn.py:888: UserWarning: The use of label encoder in XGBClassifier is deprecated and will be removed in a future release. To remove this warning, do the following: 1) Pass option use_label_encoder=False when constructing XGBClassifier object; and 2) Encode your labels (y) as integers starting with 0, i.e. 0, 1, 2, ..., [num_class - 1].\n",
      "  warnings.warn(label_encoder_deprecation_msg, UserWarning)\n",
      "/Users/grace/opt/miniconda3/envs/python37/lib/python3.7/site-packages/xgboost/sklearn.py:888: UserWarning: The use of label encoder in XGBClassifier is deprecated and will be removed in a future release. To remove this warning, do the following: 1) Pass option use_label_encoder=False when constructing XGBClassifier object; and 2) Encode your labels (y) as integers starting with 0, i.e. 0, 1, 2, ..., [num_class - 1].\n",
      "  warnings.warn(label_encoder_deprecation_msg, UserWarning)\n"
     ]
    },
    {
     "name": "stdout",
     "output_type": "stream",
     "text": [
      "[11:57:57] WARNING: /opt/concourse/worker/volumes/live/7a2b9f41-3287-451b-6691-43e9a6c0910f/volume/xgboost-split_1619728204606/work/src/learner.cc:1061: Starting in XGBoost 1.3.0, the default evaluation metric used with the objective 'binary:logistic' was changed from 'error' to 'logloss'. Explicitly set eval_metric if you'd like to restore the old behavior.\n",
      "[11:57:57] WARNING: /opt/concourse/worker/volumes/live/7a2b9f41-3287-451b-6691-43e9a6c0910f/volume/xgboost-split_1619728204606/work/src/learner.cc:1061: Starting in XGBoost 1.3.0, the default evaluation metric used with the objective 'binary:logistic' was changed from 'error' to 'logloss'. Explicitly set eval_metric if you'd like to restore the old behavior.\n",
      "[11:57:57] WARNING: /opt/concourse/worker/volumes/live/7a2b9f41-3287-451b-6691-43e9a6c0910f/volume/xgboost-split_1619728204606/work/src/learner.cc:1061: Starting in XGBoost 1.3.0, the default evaluation metric used with the objective 'binary:logistic' was changed from 'error' to 'logloss'. Explicitly set eval_metric if you'd like to restore the old behavior.\n",
      "[11:57:57] WARNING: /opt/concourse/worker/volumes/live/7a2b9f41-3287-451b-6691-43e9a6c0910f/volume/xgboost-split_1619728204606/work/src/learner.cc:1061: Starting in XGBoost 1.3.0, the default evaluation metric used with the objective 'binary:logistic' was changed from 'error' to 'logloss'. Explicitly set eval_metric if you'd like to restore the old behavior.\n",
      "[11:57:57] WARNING: /opt/concourse/worker/volumes/live/7a2b9f41-3287-451b-6691-43e9a6c0910f/volume/xgboost-split_1619728204606/work/src/learner.cc:1061: Starting in XGBoost 1.3.0, the default evaluation metric used with the objective 'binary:logistic' was changed from 'error' to 'logloss'. Explicitly set eval_metric if you'd like to restore the old behavior.\n",
      "      model_name       acc    recall  precision       auc\n",
      "0             LR  0.854551  0.790155   0.831648  0.922547\n",
      "1            SVM  0.852051  0.787112   0.828284  0.923531\n",
      "2  Decision Tree  0.762564  0.555184   0.615320  0.813384\n",
      "3            KNN  0.811282  0.570479   0.884351  0.868006\n",
      "4  Random Forest  0.844551  0.719095   0.836544  0.885171\n",
      "5       Adaboost  0.864744  0.797440   0.845113  0.922997\n",
      "6           GBDT  0.841667  0.835446   0.785760  0.921208\n",
      "7        Xgboost  0.864872  0.779559   0.841706  0.916105\n",
      "8       Ensemble  0.849744  0.824296   0.803485  0.927464\n",
      "******************************\n"
     ]
    }
   ],
   "source": [
    "# feature filter\n",
    "# alpha_list = [0.001, 0.002, 0.003, 0.004, 0.005]\n",
    "alpha_list = [0.002]\n",
    "for a in alpha_list:\n",
    "    lasso = Lasso(alpha=a)\n",
    "    selector = SelectFromModel(lasso).fit(train_X, train_y)\n",
    "    sel_feats_indexs = selector.get_support(indices=True)\n",
    "    thre = selector.threshold_\n",
    "    coefs = selector.estimator_.coef_\n",
    "    sub_sel_feats = [all_feats[i] for i in sel_feats_indexs]\n",
    "    sub_sel_coef_feats = [(all_feats[i], coefs[i]) for i in sel_feats_indexs]\n",
    "    seg_eval_df, _ = compare_model(train_X[sub_sel_feats].values, train_y.values, threshold=0.4)\n",
    "    print(seg_eval_df)\n",
    "    print('******************************')"
   ]
  },
  {
   "cell_type": "code",
   "execution_count": 20,
   "id": "995a89f3",
   "metadata": {
    "scrolled": true
   },
   "outputs": [
    {
     "name": "stderr",
     "output_type": "stream",
     "text": [
      "/Users/grace/opt/miniconda3/envs/python37/lib/python3.7/site-packages/xgboost/sklearn.py:888: UserWarning: The use of label encoder in XGBClassifier is deprecated and will be removed in a future release. To remove this warning, do the following: 1) Pass option use_label_encoder=False when constructing XGBClassifier object; and 2) Encode your labels (y) as integers starting with 0, i.e. 0, 1, 2, ..., [num_class - 1].\n",
      "  warnings.warn(label_encoder_deprecation_msg, UserWarning)\n",
      "/Users/grace/opt/miniconda3/envs/python37/lib/python3.7/site-packages/xgboost/sklearn.py:888: UserWarning: The use of label encoder in XGBClassifier is deprecated and will be removed in a future release. To remove this warning, do the following: 1) Pass option use_label_encoder=False when constructing XGBClassifier object; and 2) Encode your labels (y) as integers starting with 0, i.e. 0, 1, 2, ..., [num_class - 1].\n",
      "  warnings.warn(label_encoder_deprecation_msg, UserWarning)\n",
      "/Users/grace/opt/miniconda3/envs/python37/lib/python3.7/site-packages/xgboost/sklearn.py:888: UserWarning: The use of label encoder in XGBClassifier is deprecated and will be removed in a future release. To remove this warning, do the following: 1) Pass option use_label_encoder=False when constructing XGBClassifier object; and 2) Encode your labels (y) as integers starting with 0, i.e. 0, 1, 2, ..., [num_class - 1].\n",
      "  warnings.warn(label_encoder_deprecation_msg, UserWarning)\n",
      "/Users/grace/opt/miniconda3/envs/python37/lib/python3.7/site-packages/xgboost/sklearn.py:888: UserWarning: The use of label encoder in XGBClassifier is deprecated and will be removed in a future release. To remove this warning, do the following: 1) Pass option use_label_encoder=False when constructing XGBClassifier object; and 2) Encode your labels (y) as integers starting with 0, i.e. 0, 1, 2, ..., [num_class - 1].\n",
      "  warnings.warn(label_encoder_deprecation_msg, UserWarning)\n",
      "/Users/grace/opt/miniconda3/envs/python37/lib/python3.7/site-packages/xgboost/sklearn.py:888: UserWarning: The use of label encoder in XGBClassifier is deprecated and will be removed in a future release. To remove this warning, do the following: 1) Pass option use_label_encoder=False when constructing XGBClassifier object; and 2) Encode your labels (y) as integers starting with 0, i.e. 0, 1, 2, ..., [num_class - 1].\n",
      "  warnings.warn(label_encoder_deprecation_msg, UserWarning)\n",
      "/Users/grace/opt/miniconda3/envs/python37/lib/python3.7/site-packages/xgboost/sklearn.py:888: UserWarning: The use of label encoder in XGBClassifier is deprecated and will be removed in a future release. To remove this warning, do the following: 1) Pass option use_label_encoder=False when constructing XGBClassifier object; and 2) Encode your labels (y) as integers starting with 0, i.e. 0, 1, 2, ..., [num_class - 1].\n",
      "  warnings.warn(label_encoder_deprecation_msg, UserWarning)\n"
     ]
    },
    {
     "name": "stdout",
     "output_type": "stream",
     "text": [
      "[11:58:27] WARNING: /opt/concourse/worker/volumes/live/7a2b9f41-3287-451b-6691-43e9a6c0910f/volume/xgboost-split_1619728204606/work/src/learner.cc:1061: Starting in XGBoost 1.3.0, the default evaluation metric used with the objective 'binary:logistic' was changed from 'error' to 'logloss'. Explicitly set eval_metric if you'd like to restore the old behavior.\n",
      "[11:58:27] WARNING: /opt/concourse/worker/volumes/live/7a2b9f41-3287-451b-6691-43e9a6c0910f/volume/xgboost-split_1619728204606/work/src/learner.cc:1061: Starting in XGBoost 1.3.0, the default evaluation metric used with the objective 'binary:logistic' was changed from 'error' to 'logloss'. Explicitly set eval_metric if you'd like to restore the old behavior.\n",
      "[11:58:27] WARNING: /opt/concourse/worker/volumes/live/7a2b9f41-3287-451b-6691-43e9a6c0910f/volume/xgboost-split_1619728204606/work/src/learner.cc:1061: Starting in XGBoost 1.3.0, the default evaluation metric used with the objective 'binary:logistic' was changed from 'error' to 'logloss'. Explicitly set eval_metric if you'd like to restore the old behavior.\n",
      "[11:58:28] WARNING: /opt/concourse/worker/volumes/live/7a2b9f41-3287-451b-6691-43e9a6c0910f/volume/xgboost-split_1619728204606/work/src/learner.cc:1061: Starting in XGBoost 1.3.0, the default evaluation metric used with the objective 'binary:logistic' was changed from 'error' to 'logloss'. Explicitly set eval_metric if you'd like to restore the old behavior.\n",
      "[11:58:28] WARNING: /opt/concourse/worker/volumes/live/7a2b9f41-3287-451b-6691-43e9a6c0910f/volume/xgboost-split_1619728204606/work/src/learner.cc:1061: Starting in XGBoost 1.3.0, the default evaluation metric used with the objective 'binary:logistic' was changed from 'error' to 'logloss'. Explicitly set eval_metric if you'd like to restore the old behavior.\n",
      "[11:58:28] WARNING: /opt/concourse/worker/volumes/live/7a2b9f41-3287-451b-6691-43e9a6c0910f/volume/xgboost-split_1619728204606/work/src/learner.cc:1061: Starting in XGBoost 1.3.0, the default evaluation metric used with the objective 'binary:logistic' was changed from 'error' to 'logloss'. Explicitly set eval_metric if you'd like to restore the old behavior.\n"
     ]
    },
    {
     "name": "stderr",
     "output_type": "stream",
     "text": [
      "/Users/grace/opt/miniconda3/envs/python37/lib/python3.7/site-packages/xgboost/sklearn.py:888: UserWarning: The use of label encoder in XGBClassifier is deprecated and will be removed in a future release. To remove this warning, do the following: 1) Pass option use_label_encoder=False when constructing XGBClassifier object; and 2) Encode your labels (y) as integers starting with 0, i.e. 0, 1, 2, ..., [num_class - 1].\n",
      "  warnings.warn(label_encoder_deprecation_msg, UserWarning)\n",
      "/Users/grace/opt/miniconda3/envs/python37/lib/python3.7/site-packages/xgboost/sklearn.py:888: UserWarning: The use of label encoder in XGBClassifier is deprecated and will be removed in a future release. To remove this warning, do the following: 1) Pass option use_label_encoder=False when constructing XGBClassifier object; and 2) Encode your labels (y) as integers starting with 0, i.e. 0, 1, 2, ..., [num_class - 1].\n",
      "  warnings.warn(label_encoder_deprecation_msg, UserWarning)\n",
      "/Users/grace/opt/miniconda3/envs/python37/lib/python3.7/site-packages/xgboost/sklearn.py:888: UserWarning: The use of label encoder in XGBClassifier is deprecated and will be removed in a future release. To remove this warning, do the following: 1) Pass option use_label_encoder=False when constructing XGBClassifier object; and 2) Encode your labels (y) as integers starting with 0, i.e. 0, 1, 2, ..., [num_class - 1].\n",
      "  warnings.warn(label_encoder_deprecation_msg, UserWarning)\n",
      "/Users/grace/opt/miniconda3/envs/python37/lib/python3.7/site-packages/xgboost/sklearn.py:888: UserWarning: The use of label encoder in XGBClassifier is deprecated and will be removed in a future release. To remove this warning, do the following: 1) Pass option use_label_encoder=False when constructing XGBClassifier object; and 2) Encode your labels (y) as integers starting with 0, i.e. 0, 1, 2, ..., [num_class - 1].\n",
      "  warnings.warn(label_encoder_deprecation_msg, UserWarning)\n"
     ]
    },
    {
     "name": "stdout",
     "output_type": "stream",
     "text": [
      "[11:58:28] WARNING: /opt/concourse/worker/volumes/live/7a2b9f41-3287-451b-6691-43e9a6c0910f/volume/xgboost-split_1619728204606/work/src/learner.cc:1061: Starting in XGBoost 1.3.0, the default evaluation metric used with the objective 'binary:logistic' was changed from 'error' to 'logloss'. Explicitly set eval_metric if you'd like to restore the old behavior.\n",
      "[11:58:28] WARNING: /opt/concourse/worker/volumes/live/7a2b9f41-3287-451b-6691-43e9a6c0910f/volume/xgboost-split_1619728204606/work/src/learner.cc:1061: Starting in XGBoost 1.3.0, the default evaluation metric used with the objective 'binary:logistic' was changed from 'error' to 'logloss'. Explicitly set eval_metric if you'd like to restore the old behavior.\n",
      "[11:58:28] WARNING: /opt/concourse/worker/volumes/live/7a2b9f41-3287-451b-6691-43e9a6c0910f/volume/xgboost-split_1619728204606/work/src/learner.cc:1061: Starting in XGBoost 1.3.0, the default evaluation metric used with the objective 'binary:logistic' was changed from 'error' to 'logloss'. Explicitly set eval_metric if you'd like to restore the old behavior.\n",
      "[11:58:28] WARNING: /opt/concourse/worker/volumes/live/7a2b9f41-3287-451b-6691-43e9a6c0910f/volume/xgboost-split_1619728204606/work/src/learner.cc:1061: Starting in XGBoost 1.3.0, the default evaluation metric used with the objective 'binary:logistic' was changed from 'error' to 'logloss'. Explicitly set eval_metric if you'd like to restore the old behavior.\n"
     ]
    }
   ],
   "source": [
    "seg_eval_df, seg_mean_tpr_fpr_list = compare_model(train_X[sub_sel_feats].values, train_y.values, threshold=0.4)\n"
   ]
  },
  {
   "cell_type": "code",
   "execution_count": 53,
   "id": "90a5d69f",
   "metadata": {
    "scrolled": false
   },
   "outputs": [
    {
     "data": {
      "text/html": [
       "<div>\n",
       "<style scoped>\n",
       "    .dataframe tbody tr th:only-of-type {\n",
       "        vertical-align: middle;\n",
       "    }\n",
       "\n",
       "    .dataframe tbody tr th {\n",
       "        vertical-align: top;\n",
       "    }\n",
       "\n",
       "    .dataframe thead th {\n",
       "        text-align: right;\n",
       "    }\n",
       "</style>\n",
       "<table border=\"1\" class=\"dataframe\">\n",
       "  <thead>\n",
       "    <tr style=\"text-align: right;\">\n",
       "      <th></th>\n",
       "      <th>model_name</th>\n",
       "      <th>acc</th>\n",
       "      <th>recall</th>\n",
       "      <th>precision</th>\n",
       "      <th>auc</th>\n",
       "    </tr>\n",
       "  </thead>\n",
       "  <tbody>\n",
       "    <tr>\n",
       "      <th>0</th>\n",
       "      <td>LR</td>\n",
       "      <td>0.864936</td>\n",
       "      <td>0.825773</td>\n",
       "      <td>0.842471</td>\n",
       "      <td>0.930969</td>\n",
       "    </tr>\n",
       "    <tr>\n",
       "      <th>1</th>\n",
       "      <td>SVM</td>\n",
       "      <td>0.872372</td>\n",
       "      <td>0.817725</td>\n",
       "      <td>0.848114</td>\n",
       "      <td>0.933719</td>\n",
       "    </tr>\n",
       "    <tr>\n",
       "      <th>2</th>\n",
       "      <td>Decision Tree</td>\n",
       "      <td>0.755321</td>\n",
       "      <td>0.551699</td>\n",
       "      <td>0.583279</td>\n",
       "      <td>0.806594</td>\n",
       "    </tr>\n",
       "    <tr>\n",
       "      <th>3</th>\n",
       "      <td>KNN</td>\n",
       "      <td>0.798269</td>\n",
       "      <td>0.552918</td>\n",
       "      <td>0.890577</td>\n",
       "      <td>0.881246</td>\n",
       "    </tr>\n",
       "    <tr>\n",
       "      <th>4</th>\n",
       "      <td>Random Forest</td>\n",
       "      <td>0.844679</td>\n",
       "      <td>0.742564</td>\n",
       "      <td>0.851122</td>\n",
       "      <td>0.905181</td>\n",
       "    </tr>\n",
       "    <tr>\n",
       "      <th>5</th>\n",
       "      <td>Adaboost</td>\n",
       "      <td>0.852179</td>\n",
       "      <td>0.786564</td>\n",
       "      <td>0.812206</td>\n",
       "      <td>0.915614</td>\n",
       "    </tr>\n",
       "    <tr>\n",
       "      <th>6</th>\n",
       "      <td>GBDT</td>\n",
       "      <td>0.857372</td>\n",
       "      <td>0.798776</td>\n",
       "      <td>0.819127</td>\n",
       "      <td>0.928553</td>\n",
       "    </tr>\n",
       "    <tr>\n",
       "      <th>7</th>\n",
       "      <td>Xgboost</td>\n",
       "      <td>0.859423</td>\n",
       "      <td>0.811052</td>\n",
       "      <td>0.837056</td>\n",
       "      <td>0.919967</td>\n",
       "    </tr>\n",
       "    <tr>\n",
       "      <th>8</th>\n",
       "      <td>Ensemble</td>\n",
       "      <td>0.867115</td>\n",
       "      <td>0.832411</td>\n",
       "      <td>0.831919</td>\n",
       "      <td>0.930335</td>\n",
       "    </tr>\n",
       "  </tbody>\n",
       "</table>\n",
       "</div>"
      ],
      "text/plain": [
       "      model_name       acc    recall  precision       auc\n",
       "0             LR  0.864936  0.825773   0.842471  0.930969\n",
       "1            SVM  0.872372  0.817725   0.848114  0.933719\n",
       "2  Decision Tree  0.755321  0.551699   0.583279  0.806594\n",
       "3            KNN  0.798269  0.552918   0.890577  0.881246\n",
       "4  Random Forest  0.844679  0.742564   0.851122  0.905181\n",
       "5       Adaboost  0.852179  0.786564   0.812206  0.915614\n",
       "6           GBDT  0.857372  0.798776   0.819127  0.928553\n",
       "7        Xgboost  0.859423  0.811052   0.837056  0.919967\n",
       "8       Ensemble  0.867115  0.832411   0.831919  0.930335"
      ]
     },
     "execution_count": 53,
     "metadata": {},
     "output_type": "execute_result"
    }
   ],
   "source": [
    "seg_eval_df"
   ]
  },
  {
   "cell_type": "code",
   "execution_count": 67,
   "id": "7fadcd23",
   "metadata": {},
   "outputs": [],
   "source": [
    "def draw_roc(mean_tpr_fpr_list, save_path=None):\n",
    "    fig, ax = plt.subplots()\n",
    "    for item in seg_mean_tpr_fpr_list:\n",
    "        model_name = item['model_name']\n",
    "        mean_fpr, mean_tpr, mean_auc, std_auc = item['items']\n",
    "        ax.plot(mean_fpr, mean_tpr, label=r'%s (AUC = %0.2f $\\pm$ %0.2f)' % (model_name, mean_auc, std_auc), lw=2, alpha=0.8)\n",
    "    cl_x = range(-2, 2)\n",
    "    cl_y = range(-2, 2)\n",
    "    ax.plot(cl_x, cl_y, color='gray', alpha=0.5, linestyle='--', linewidth=0.7)\n",
    "    ax.set(xlim=[-0.05, 1.05], ylim=[-0.05, 1.05], title='Mean ROC Curve(10-fold cross validation)')\n",
    "    ax.legend(loc='lower right')\n",
    "    plt.ylabel('True Positive')\n",
    "    plt.xlabel('False Positive')\n",
    "    if save_path is not None:\n",
    "#         plt.legend(prop={'family': 'Times New Roman', 'size':1})\n",
    "        plt.savefig(save_path, dpi=300)\n",
    "    plt.show()"
   ]
  },
  {
   "cell_type": "code",
   "execution_count": 68,
   "id": "d46f86fe",
   "metadata": {},
   "outputs": [
    {
     "data": {
      "image/png": "[encoded data removed]",
      "text/plain": [
       "<Figure size 432x288 with 1 Axes>"
      ]
     },
     "metadata": {
      "needs_background": "light"
     },
     "output_type": "display_data"
    }
   ],
   "source": [
    "draw_roc(seg_mean_tpr_fpr_list)"
   ]
  },
  {
   "cell_type": "markdown",
   "id": "9aea9b14",
   "metadata": {},
   "source": [
    "### Train by ensemble model"
   ]
  },
  {
   "cell_type": "code",
   "execution_count": 33,
   "id": "51a44658",
   "metadata": {},
   "outputs": [],
   "source": [
    "from sklearn.ensemble import VotingClassifier\n",
    "\n",
    "xgb = XGBClassifier(learning_rate=0.1, n_estimators=70, max_depth=5, min_child_weight=1, gamma=0, subsample=0.8, colsample_bytree=0.8, objective='binary:logistic', nthred=4, scale_pos_weight=1, seed=27)\n",
    "lr = LogisticRegression(C=1)\n",
    "svm_model = svm.SVC(kernel='linear', C=1, probability=True)\n",
    "rf_model = RandomForestClassifier(n_estimators=10)\n",
    "adb_model = AdaBoostClassifier(n_estimators=100, learning_rate=0.1)\n",
    "gbdt_model = GradientBoostingClassifier(learning_rate=0.1, n_estimators=60, max_depth=2, min_samples_split=8)\n",
    "\n"
   ]
  },
  {
   "cell_type": "code",
   "execution_count": 34,
   "id": "af138ce6",
   "metadata": {},
   "outputs": [],
   "source": [
    "eclf = VotingClassifier(estimators=[('lr', lr), ('rf', rf_model), ('svm', svm_model), ('adb', adb_model), ('gbdt', gbdt_model)], voting='soft',flatten_transform=False)"
   ]
  },
  {
   "cell_type": "code",
   "execution_count": 35,
   "id": "c58c72c3",
   "metadata": {
    "scrolled": true
   },
   "outputs": [
    {
     "data": {
      "text/plain": [
       "source   machine_type\n",
       "306      SE              319\n",
       "tiantan  SE               45\n",
       "         GE               23\n",
       "         Philips           5\n",
       "dtype: int64"
      ]
     },
     "execution_count": 35,
     "metadata": {},
     "output_type": "execute_result"
    }
   ],
   "source": [
    "train_df[['source', 'machine_type']].value_counts()"
   ]
  },
  {
   "cell_type": "code",
   "execution_count": 36,
   "id": "41fb1957",
   "metadata": {},
   "outputs": [
    {
     "data": {
      "text/plain": [
       "source   machine_type\n",
       "306      SE              67\n",
       "tiantan  SE              27\n",
       "         GE              12\n",
       "         Philips          5\n",
       "dtype: int64"
      ]
     },
     "execution_count": 36,
     "metadata": {},
     "output_type": "execute_result"
    }
   ],
   "source": [
    "test_df[['source', 'machine_type']].value_counts()"
   ]
  },
  {
   "cell_type": "code",
   "execution_count": 37,
   "id": "f7f401ac",
   "metadata": {
    "scrolled": false
   },
   "outputs": [
    {
     "name": "stdout",
     "output_type": "stream",
     "text": [
      "14\n"
     ]
    },
    {
     "data": {
      "text/plain": [
       "VotingClassifier(estimators=[('lr', LogisticRegression(C=1)),\n",
       "                             ('rf', RandomForestClassifier(n_estimators=10)),\n",
       "                             ('svm',\n",
       "                              SVC(C=1, kernel='linear', probability=True)),\n",
       "                             ('adb',\n",
       "                              AdaBoostClassifier(learning_rate=0.1,\n",
       "                                                 n_estimators=100)),\n",
       "                             ('gbdt',\n",
       "                              GradientBoostingClassifier(max_depth=2,\n",
       "                                                         min_samples_split=8,\n",
       "                                                         n_estimators=60))],\n",
       "                 flatten_transform=False, voting='soft')"
      ]
     },
     "execution_count": 37,
     "metadata": {},
     "output_type": "execute_result"
    }
   ],
   "source": [
    "print(len(sub_sel_feats))\n",
    "eclf.fit(train_X[sub_sel_feats].values, train_y.values)"
   ]
  },
  {
   "cell_type": "code",
   "execution_count": 38,
   "id": "d4134fdd",
   "metadata": {},
   "outputs": [],
   "source": [
    "def evaluation(y_true, y_pred_proba, model_name, data_set_name, threshold=0.5):\n",
    "    if not isinstance(y_true, list):\n",
    "        y_true = y_true.tolist()\n",
    "    y_pred = np.where(y_pred_proba > threshold, 1, 0)\n",
    "    acc = accuracy_score(y_true, y_pred)\n",
    "    recall = recall_score(y_true, y_pred)\n",
    "    precision = precision_score(y_true, y_pred)\n",
    "    auc_score = roc_auc_score(y_true, y_pred_proba)\n",
    "    dic = {'model_name':model_name, 'acc':acc, 'recall':recall, 'precision':precision, 'auc':auc_score}\n",
    "    return dic"
   ]
  },
  {
   "cell_type": "code",
   "execution_count": 71,
   "id": "95021d4d",
   "metadata": {
    "scrolled": false
   },
   "outputs": [
    {
     "name": "stdout",
     "output_type": "stream",
     "text": [
      "{'model_name': 'ensemble_train', 'acc': 0.9285714285714286, 'recall': 0.9261744966442953, 'precision': 0.8903225806451613, 'auc': 0.9847543292733449}\n"
     ]
    }
   ],
   "source": [
    "y_pred_train = eclf.predict_proba(train_X[sub_sel_feats].values)[:,1]\n",
    "train_eval_dic = evaluation(train_y.values, y_pred_train, 'ensemble_train', 'train', 0.4)\n",
    "print(train_eval_dic)"
   ]
  },
  {
   "cell_type": "code",
   "execution_count": 72,
   "id": "b4dd2c03",
   "metadata": {
    "scrolled": false
   },
   "outputs": [],
   "source": [
    "test_X = test_df[all_feats]\n",
    "target_col = 'is_dispersion_all'\n",
    "test_y = test_df[target_col]"
   ]
  },
  {
   "cell_type": "code",
   "execution_count": 73,
   "id": "2cd81322",
   "metadata": {
    "scrolled": true
   },
   "outputs": [
    {
     "data": {
      "text/html": [
       "<div>\n",
       "<style scoped>\n",
       "    .dataframe tbody tr th:only-of-type {\n",
       "        vertical-align: middle;\n",
       "    }\n",
       "\n",
       "    .dataframe tbody tr th {\n",
       "        vertical-align: top;\n",
       "    }\n",
       "\n",
       "    .dataframe thead th {\n",
       "        text-align: right;\n",
       "    }\n",
       "</style>\n",
       "<table border=\"1\" class=\"dataframe\">\n",
       "  <thead>\n",
       "    <tr style=\"text-align: right;\">\n",
       "      <th></th>\n",
       "      <th>original_shape_Elongation</th>\n",
       "      <th>original_shape_Flatness</th>\n",
       "      <th>original_shape_LeastAxisLength</th>\n",
       "      <th>original_shape_MajorAxisLength</th>\n",
       "      <th>original_shape_Maximum2DDiameterColumn</th>\n",
       "      <th>original_shape_Maximum2DDiameterRow</th>\n",
       "      <th>original_shape_Maximum2DDiameterSlice</th>\n",
       "      <th>original_shape_Maximum3DDiameter</th>\n",
       "      <th>original_shape_MeshVolume</th>\n",
       "      <th>original_shape_MinorAxisLength</th>\n",
       "      <th>...</th>\n",
       "      <th>original_glszm_SmallAreaHighGrayLevelEmphasis</th>\n",
       "      <th>original_glszm_SmallAreaLowGrayLevelEmphasis</th>\n",
       "      <th>original_glszm_ZoneEntropy</th>\n",
       "      <th>original_glszm_ZonePercentage</th>\n",
       "      <th>original_glszm_ZoneVariance</th>\n",
       "      <th>original_ngtdm_Busyness</th>\n",
       "      <th>original_ngtdm_Coarseness</th>\n",
       "      <th>original_ngtdm_Complexity</th>\n",
       "      <th>original_ngtdm_Contrast</th>\n",
       "      <th>original_ngtdm_Strength</th>\n",
       "    </tr>\n",
       "  </thead>\n",
       "  <tbody>\n",
       "    <tr>\n",
       "      <th>1</th>\n",
       "      <td>0.731797</td>\n",
       "      <td>0.482442</td>\n",
       "      <td>0.551429</td>\n",
       "      <td>0.507217</td>\n",
       "      <td>0.617245</td>\n",
       "      <td>0.544672</td>\n",
       "      <td>0.461517</td>\n",
       "      <td>0.524590</td>\n",
       "      <td>0.283301</td>\n",
       "      <td>0.647619</td>\n",
       "      <td>...</td>\n",
       "      <td>0.368741</td>\n",
       "      <td>0.574380</td>\n",
       "      <td>0.776980</td>\n",
       "      <td>0.276552</td>\n",
       "      <td>0.027869</td>\n",
       "      <td>0.174640</td>\n",
       "      <td>3.028994e-10</td>\n",
       "      <td>0.321818</td>\n",
       "      <td>0.074841</td>\n",
       "      <td>0.000265</td>\n",
       "    </tr>\n",
       "    <tr>\n",
       "      <th>8</th>\n",
       "      <td>0.395757</td>\n",
       "      <td>0.504105</td>\n",
       "      <td>0.493448</td>\n",
       "      <td>0.427127</td>\n",
       "      <td>0.358304</td>\n",
       "      <td>0.435070</td>\n",
       "      <td>0.286293</td>\n",
       "      <td>0.373617</td>\n",
       "      <td>0.153608</td>\n",
       "      <td>0.347624</td>\n",
       "      <td>...</td>\n",
       "      <td>0.317516</td>\n",
       "      <td>0.501363</td>\n",
       "      <td>0.833328</td>\n",
       "      <td>0.268116</td>\n",
       "      <td>0.015351</td>\n",
       "      <td>0.114054</td>\n",
       "      <td>5.134671e-10</td>\n",
       "      <td>0.379012</td>\n",
       "      <td>0.121540</td>\n",
       "      <td>0.000407</td>\n",
       "    </tr>\n",
       "    <tr>\n",
       "      <th>20</th>\n",
       "      <td>0.572672</td>\n",
       "      <td>0.600635</td>\n",
       "      <td>0.464033</td>\n",
       "      <td>0.328818</td>\n",
       "      <td>0.410523</td>\n",
       "      <td>0.268363</td>\n",
       "      <td>0.389740</td>\n",
       "      <td>0.342007</td>\n",
       "      <td>0.104998</td>\n",
       "      <td>0.353252</td>\n",
       "      <td>...</td>\n",
       "      <td>0.238143</td>\n",
       "      <td>0.382187</td>\n",
       "      <td>0.670733</td>\n",
       "      <td>0.059111</td>\n",
       "      <td>0.046738</td>\n",
       "      <td>0.007647</td>\n",
       "      <td>8.335987e-09</td>\n",
       "      <td>0.038616</td>\n",
       "      <td>0.001645</td>\n",
       "      <td>0.005242</td>\n",
       "    </tr>\n",
       "    <tr>\n",
       "      <th>26</th>\n",
       "      <td>0.853534</td>\n",
       "      <td>0.716603</td>\n",
       "      <td>0.404946</td>\n",
       "      <td>0.221279</td>\n",
       "      <td>0.270095</td>\n",
       "      <td>0.271587</td>\n",
       "      <td>0.287024</td>\n",
       "      <td>0.243352</td>\n",
       "      <td>0.077265</td>\n",
       "      <td>0.350388</td>\n",
       "      <td>...</td>\n",
       "      <td>0.360387</td>\n",
       "      <td>0.578371</td>\n",
       "      <td>0.678984</td>\n",
       "      <td>0.109406</td>\n",
       "      <td>0.019472</td>\n",
       "      <td>0.008102</td>\n",
       "      <td>7.881136e-09</td>\n",
       "      <td>0.054986</td>\n",
       "      <td>0.003357</td>\n",
       "      <td>0.004770</td>\n",
       "    </tr>\n",
       "    <tr>\n",
       "      <th>27</th>\n",
       "      <td>0.426239</td>\n",
       "      <td>0.332082</td>\n",
       "      <td>0.421595</td>\n",
       "      <td>0.528203</td>\n",
       "      <td>0.540071</td>\n",
       "      <td>0.546670</td>\n",
       "      <td>0.333005</td>\n",
       "      <td>0.477632</td>\n",
       "      <td>0.116816</td>\n",
       "      <td>0.454657</td>\n",
       "      <td>...</td>\n",
       "      <td>0.320248</td>\n",
       "      <td>0.513954</td>\n",
       "      <td>0.777841</td>\n",
       "      <td>0.254314</td>\n",
       "      <td>0.012524</td>\n",
       "      <td>0.053858</td>\n",
       "      <td>1.160287e-09</td>\n",
       "      <td>0.236355</td>\n",
       "      <td>0.067325</td>\n",
       "      <td>0.000771</td>\n",
       "    </tr>\n",
       "  </tbody>\n",
       "</table>\n",
       "<p>5 rows × 107 columns</p>\n",
       "</div>"
      ],
      "text/plain": [
       "    original_shape_Elongation  original_shape_Flatness  \\\n",
       "1                    0.731797                 0.482442   \n",
       "8                    0.395757                 0.504105   \n",
       "20                   0.572672                 0.600635   \n",
       "26                   0.853534                 0.716603   \n",
       "27                   0.426239                 0.332082   \n",
       "\n",
       "    original_shape_LeastAxisLength  original_shape_MajorAxisLength  \\\n",
       "1                         0.551429                        0.507217   \n",
       "8                         0.493448                        0.427127   \n",
       "20                        0.464033                        0.328818   \n",
       "26                        0.404946                        0.221279   \n",
       "27                        0.421595                        0.528203   \n",
       "\n",
       "    original_shape_Maximum2DDiameterColumn  \\\n",
       "1                                 0.617245   \n",
       "8                                 0.358304   \n",
       "20                                0.410523   \n",
       "26                                0.270095   \n",
       "27                                0.540071   \n",
       "\n",
       "    original_shape_Maximum2DDiameterRow  \\\n",
       "1                              0.544672   \n",
       "8                              0.435070   \n",
       "20                             0.268363   \n",
       "26                             0.271587   \n",
       "27                             0.546670   \n",
       "\n",
       "    original_shape_Maximum2DDiameterSlice  original_shape_Maximum3DDiameter  \\\n",
       "1                                0.461517                          0.524590   \n",
       "8                                0.286293                          0.373617   \n",
       "20                               0.389740                          0.342007   \n",
       "26                               0.287024                          0.243352   \n",
       "27                               0.333005                          0.477632   \n",
       "\n",
       "    original_shape_MeshVolume  original_shape_MinorAxisLength  ...  \\\n",
       "1                    0.283301                        0.647619  ...   \n",
       "8                    0.153608                        0.347624  ...   \n",
       "20                   0.104998                        0.353252  ...   \n",
       "26                   0.077265                        0.350388  ...   \n",
       "27                   0.116816                        0.454657  ...   \n",
       "\n",
       "    original_glszm_SmallAreaHighGrayLevelEmphasis  \\\n",
       "1                                        0.368741   \n",
       "8                                        0.317516   \n",
       "20                                       0.238143   \n",
       "26                                       0.360387   \n",
       "27                                       0.320248   \n",
       "\n",
       "    original_glszm_SmallAreaLowGrayLevelEmphasis  original_glszm_ZoneEntropy  \\\n",
       "1                                       0.574380                    0.776980   \n",
       "8                                       0.501363                    0.833328   \n",
       "20                                      0.382187                    0.670733   \n",
       "26                                      0.578371                    0.678984   \n",
       "27                                      0.513954                    0.777841   \n",
       "\n",
       "    original_glszm_ZonePercentage  original_glszm_ZoneVariance  \\\n",
       "1                        0.276552                     0.027869   \n",
       "8                        0.268116                     0.015351   \n",
       "20                       0.059111                     0.046738   \n",
       "26                       0.109406                     0.019472   \n",
       "27                       0.254314                     0.012524   \n",
       "\n",
       "    original_ngtdm_Busyness  original_ngtdm_Coarseness  \\\n",
       "1                  0.174640               3.028994e-10   \n",
       "8                  0.114054               5.134671e-10   \n",
       "20                 0.007647               8.335987e-09   \n",
       "26                 0.008102               7.881136e-09   \n",
       "27                 0.053858               1.160287e-09   \n",
       "\n",
       "    original_ngtdm_Complexity  original_ngtdm_Contrast  \\\n",
       "1                    0.321818                 0.074841   \n",
       "8                    0.379012                 0.121540   \n",
       "20                   0.038616                 0.001645   \n",
       "26                   0.054986                 0.003357   \n",
       "27                   0.236355                 0.067325   \n",
       "\n",
       "    original_ngtdm_Strength  \n",
       "1                  0.000265  \n",
       "8                  0.000407  \n",
       "20                 0.005242  \n",
       "26                 0.004770  \n",
       "27                 0.000771  \n",
       "\n",
       "[5 rows x 107 columns]"
      ]
     },
     "execution_count": 73,
     "metadata": {},
     "output_type": "execute_result"
    }
   ],
   "source": [
    "test_X.head()"
   ]
  },
  {
   "cell_type": "code",
   "execution_count": 74,
   "id": "1d604185",
   "metadata": {},
   "outputs": [
    {
     "name": "stdout",
     "output_type": "stream",
     "text": [
      "77\n"
     ]
    }
   ],
   "source": [
    "# test中完全一致的数据\n",
    "test_X1 = test_coin_df[all_feats]\n",
    "test_y1 = test_coin_df[target_col]\n"
   ]
  },
  {
   "cell_type": "code",
   "execution_count": 75,
   "id": "407549e8",
   "metadata": {
    "scrolled": true
   },
   "outputs": [
    {
     "name": "stdout",
     "output_type": "stream",
     "text": [
      "{'model_name': 'ensemble_test', 'acc': 0.9009009009009009, 'recall': 0.8387096774193549, 'precision': 0.8125, 'auc': 0.9520161290322582}\n"
     ]
    }
   ],
   "source": [
    "y_pred_test = eclf.predict_proba(test_X[sub_sel_feats].values)[:,1]\n",
    "test_eval_dic = evaluation(test_y.values, y_pred_test, 'ensemble_test', 'test', 0.4)\n",
    "print(test_eval_dic)"
   ]
  },
  {
   "cell_type": "code",
   "execution_count": 76,
   "id": "2a223594",
   "metadata": {},
   "outputs": [
    {
     "name": "stdout",
     "output_type": "stream",
     "text": [
      "{'model_name': 'ensemble_test1', 'acc': 0.948051948051948, 'recall': 0.9411764705882353, 'precision': 0.8421052631578947, 'auc': 0.988235294117647}\n"
     ]
    }
   ],
   "source": [
    "y_pred_test1 = eclf.predict_proba(test_X1[sub_sel_feats].values)[:,1]\n",
    "# print(y_pred_test1.shape)\n",
    "test_eval_dic1 = evaluation(test_y1.values, y_pred_test1, 'ensemble_test1', 'test1', 0.4)\n",
    "print(test_eval_dic1)"
   ]
  },
  {
   "cell_type": "code",
   "execution_count": 78,
   "id": "59fa1c52",
   "metadata": {},
   "outputs": [],
   "source": [
    "res_df = pd.DataFrame([train_eval_dic,test_eval_dic,test_eval_dic1])"
   ]
  },
  {
   "cell_type": "code",
   "execution_count": 79,
   "id": "5f934eb1",
   "metadata": {
    "scrolled": true
   },
   "outputs": [
    {
     "data": {
      "text/html": [
       "<div>\n",
       "<style scoped>\n",
       "    .dataframe tbody tr th:only-of-type {\n",
       "        vertical-align: middle;\n",
       "    }\n",
       "\n",
       "    .dataframe tbody tr th {\n",
       "        vertical-align: top;\n",
       "    }\n",
       "\n",
       "    .dataframe thead th {\n",
       "        text-align: right;\n",
       "    }\n",
       "</style>\n",
       "<table border=\"1\" class=\"dataframe\">\n",
       "  <thead>\n",
       "    <tr style=\"text-align: right;\">\n",
       "      <th></th>\n",
       "      <th>model_name</th>\n",
       "      <th>acc</th>\n",
       "      <th>recall</th>\n",
       "      <th>precision</th>\n",
       "      <th>auc</th>\n",
       "    </tr>\n",
       "  </thead>\n",
       "  <tbody>\n",
       "    <tr>\n",
       "      <th>0</th>\n",
       "      <td>ensemble_train</td>\n",
       "      <td>0.928571</td>\n",
       "      <td>0.926174</td>\n",
       "      <td>0.890323</td>\n",
       "      <td>0.984754</td>\n",
       "    </tr>\n",
       "    <tr>\n",
       "      <th>1</th>\n",
       "      <td>ensemble_test</td>\n",
       "      <td>0.900901</td>\n",
       "      <td>0.838710</td>\n",
       "      <td>0.812500</td>\n",
       "      <td>0.952016</td>\n",
       "    </tr>\n",
       "    <tr>\n",
       "      <th>2</th>\n",
       "      <td>ensemble_test1</td>\n",
       "      <td>0.948052</td>\n",
       "      <td>0.941176</td>\n",
       "      <td>0.842105</td>\n",
       "      <td>0.988235</td>\n",
       "    </tr>\n",
       "  </tbody>\n",
       "</table>\n",
       "</div>"
      ],
      "text/plain": [
       "       model_name       acc    recall  precision       auc\n",
       "0  ensemble_train  0.928571  0.926174   0.890323  0.984754\n",
       "1   ensemble_test  0.900901  0.838710   0.812500  0.952016\n",
       "2  ensemble_test1  0.948052  0.941176   0.842105  0.988235"
      ]
     },
     "execution_count": 79,
     "metadata": {},
     "output_type": "execute_result"
    }
   ],
   "source": [
    "res_df"
   ]
  }
 ],
 "metadata": {
  "kernelspec": {
   "display_name": "Python 3",
   "language": "python",
   "name": "python3"
  },
  "language_info": {
   "codemirror_mode": {
    "name": "ipython",
    "version": 3
   },
   "file_extension": ".py",
   "mimetype": "text/x-python",
   "name": "python",
   "nbconvert_exporter": "python",
   "pygments_lexer": "ipython3",
   "version": "3.7.7"
  }
 },
 "nbformat": 4,
 "nbformat_minor": 5
}
